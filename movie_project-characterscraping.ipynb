{
 "cells": [
  {
   "cell_type": "code",
   "execution_count": 41,
   "id": "a70675ce-357b-4433-83a2-a6c4141ed73c",
   "metadata": {},
   "outputs": [],
   "source": [
    "import pandas as pd"
   ]
  },
  {
   "cell_type": "code",
   "execution_count": 42,
   "id": "9f1f004f-09c5-4a8d-ac84-89b521a7628c",
   "metadata": {},
   "outputs": [],
   "source": [
    "import time"
   ]
  },
  {
   "cell_type": "code",
   "execution_count": 43,
   "id": "f00e828e-3ff0-402c-8b77-fa52ad37c8a2",
   "metadata": {},
   "outputs": [],
   "source": [
    "from selenium import webdriver"
   ]
  },
  {
   "cell_type": "code",
   "execution_count": 44,
   "id": "6629aa02-6e87-499d-b90f-bfd680cd3ac3",
   "metadata": {},
   "outputs": [],
   "source": [
    "from webdriver_manager.chrome import ChromeDriverManager\n",
    "from selenium.webdriver.chrome.service import Service\n",
    "from selenium.webdriver.chrome.options import Options\n",
    "import matplotlib.pyplot as plt\n",
    "import os\n",
    "import logging"
   ]
  },
  {
   "cell_type": "code",
   "execution_count": 45,
   "id": "3c00ba69-0c2e-42eb-9b00-fc4fd2a3cee8",
   "metadata": {},
   "outputs": [],
   "source": [
    "# Create service"
   ]
  },
  {
   "cell_type": "code",
   "execution_count": 46,
   "id": "f1407f2b-8263-4348-89b8-7b367a4cde48",
   "metadata": {},
   "outputs": [
    {
     "name": "stderr",
     "output_type": "stream",
     "text": [
      "/var/folders/m_/m3lsq_594494n7k5zm6nmdtc0000gn/T/ipykernel_29131/1503906442.py:1: DeprecationWarning: executable_path has been deprecated, please pass in a Service object\n",
      "  driver = webdriver.Chrome(ChromeDriverManager().install())\n"
     ]
    }
   ],
   "source": [
    "driver = webdriver.Chrome(ChromeDriverManager().install())"
   ]
  },
  {
   "cell_type": "code",
   "execution_count": 48,
   "id": "fc608f3d-72fc-426b-b979-8f3e2ad19628",
   "metadata": {},
   "outputs": [],
   "source": [
    "from selenium.webdriver.common.by import By"
   ]
  },
  {
   "cell_type": "code",
   "execution_count": 49,
   "id": "4250cd6b-3117-43e4-b190-8e1110c93a5d",
   "metadata": {},
   "outputs": [],
   "source": [
    "page_url=\"https://witcher.fandom.com/wiki/Category:Characters_in_the_stories\"\n",
    "driver.get(page_url)"
   ]
  },
  {
   "cell_type": "code",
   "execution_count": 51,
   "id": "de607f17-4417-4fa8-a354-0e2b9ed04ab5",
   "metadata": {},
   "outputs": [],
   "source": [
    "driver.find_element(By.XPATH, '//div[text()=\"ACCEPT\"]').click()"
   ]
  },
  {
   "cell_type": "code",
   "execution_count": 52,
   "id": "ed7cb265-2773-403f-a7c3-7eb3579061cf",
   "metadata": {},
   "outputs": [],
   "source": [
    "# Find books"
   ]
  },
  {
   "cell_type": "code",
   "execution_count": 53,
   "id": "6265101c-3d57-46ed-b2ab-9881a8b07d97",
   "metadata": {},
   "outputs": [],
   "source": [
    "book_categories = driver.find_elements(by=By.CLASS_NAME, value='category-page__member-link')"
   ]
  },
  {
   "cell_type": "code",
   "execution_count": 54,
   "id": "27935b53-2104-4de3-a57f-3eca1b60fd4b",
   "metadata": {},
   "outputs": [
    {
     "data": {
      "text/plain": [
       "[<selenium.webdriver.remote.webelement.WebElement (session=\"95e9dac2fc74472682fba87d8a594ef5\", element=\"ba7dfc5d-1e94-49bf-a5bb-114eadd518d6\")>,\n",
       " <selenium.webdriver.remote.webelement.WebElement (session=\"95e9dac2fc74472682fba87d8a594ef5\", element=\"16649168-be83-4819-9c3c-85354f94c1c6\")>,\n",
       " <selenium.webdriver.remote.webelement.WebElement (session=\"95e9dac2fc74472682fba87d8a594ef5\", element=\"0182b73f-b6f8-4bf4-a1ad-0a19cbae2a80\")>,\n",
       " <selenium.webdriver.remote.webelement.WebElement (session=\"95e9dac2fc74472682fba87d8a594ef5\", element=\"e5bfd05b-cb8c-4a58-a3ec-df23fe35426d\")>,\n",
       " <selenium.webdriver.remote.webelement.WebElement (session=\"95e9dac2fc74472682fba87d8a594ef5\", element=\"359c0157-0eaa-4c1b-959b-0b5b9e5fce88\")>,\n",
       " <selenium.webdriver.remote.webelement.WebElement (session=\"95e9dac2fc74472682fba87d8a594ef5\", element=\"f40039f9-a53f-481c-bc82-a9fd6b60ad1c\")>,\n",
       " <selenium.webdriver.remote.webelement.WebElement (session=\"95e9dac2fc74472682fba87d8a594ef5\", element=\"8ff4f2c0-903e-463a-a9d9-ee4ea0c5b118\")>,\n",
       " <selenium.webdriver.remote.webelement.WebElement (session=\"95e9dac2fc74472682fba87d8a594ef5\", element=\"79b83bd6-33b9-431d-a2b3-fda9925f9b67\")>,\n",
       " <selenium.webdriver.remote.webelement.WebElement (session=\"95e9dac2fc74472682fba87d8a594ef5\", element=\"4574b6b7-77d7-4b43-9c60-b694cd821e52\")>,\n",
       " <selenium.webdriver.remote.webelement.WebElement (session=\"95e9dac2fc74472682fba87d8a594ef5\", element=\"031cde11-8dc1-48f8-99ec-a4e7094f62e9\")>,\n",
       " <selenium.webdriver.remote.webelement.WebElement (session=\"95e9dac2fc74472682fba87d8a594ef5\", element=\"bdc1a913-7646-4288-bf1f-7bda160b5b35\")>,\n",
       " <selenium.webdriver.remote.webelement.WebElement (session=\"95e9dac2fc74472682fba87d8a594ef5\", element=\"43b1c42f-6dc8-4800-880a-18db86316845\")>]"
      ]
     },
     "execution_count": 54,
     "metadata": {},
     "output_type": "execute_result"
    }
   ],
   "source": [
    "book_categories"
   ]
  },
  {
   "cell_type": "code",
   "execution_count": 55,
   "id": "72a06daf-75ec-4478-8683-54f97540b9c3",
   "metadata": {},
   "outputs": [],
   "source": [
    "book_categories = driver.find_elements(By.CLASS_NAME, 'category-page__member-link')"
   ]
  },
  {
   "cell_type": "code",
   "execution_count": 56,
   "id": "c1a7060d-3358-4055-b1d4-b3e3162c6e72",
   "metadata": {},
   "outputs": [
    {
     "data": {
      "text/plain": [
       "[<selenium.webdriver.remote.webelement.WebElement (session=\"95e9dac2fc74472682fba87d8a594ef5\", element=\"ba7dfc5d-1e94-49bf-a5bb-114eadd518d6\")>,\n",
       " <selenium.webdriver.remote.webelement.WebElement (session=\"95e9dac2fc74472682fba87d8a594ef5\", element=\"16649168-be83-4819-9c3c-85354f94c1c6\")>,\n",
       " <selenium.webdriver.remote.webelement.WebElement (session=\"95e9dac2fc74472682fba87d8a594ef5\", element=\"0182b73f-b6f8-4bf4-a1ad-0a19cbae2a80\")>,\n",
       " <selenium.webdriver.remote.webelement.WebElement (session=\"95e9dac2fc74472682fba87d8a594ef5\", element=\"e5bfd05b-cb8c-4a58-a3ec-df23fe35426d\")>,\n",
       " <selenium.webdriver.remote.webelement.WebElement (session=\"95e9dac2fc74472682fba87d8a594ef5\", element=\"359c0157-0eaa-4c1b-959b-0b5b9e5fce88\")>,\n",
       " <selenium.webdriver.remote.webelement.WebElement (session=\"95e9dac2fc74472682fba87d8a594ef5\", element=\"f40039f9-a53f-481c-bc82-a9fd6b60ad1c\")>,\n",
       " <selenium.webdriver.remote.webelement.WebElement (session=\"95e9dac2fc74472682fba87d8a594ef5\", element=\"8ff4f2c0-903e-463a-a9d9-ee4ea0c5b118\")>,\n",
       " <selenium.webdriver.remote.webelement.WebElement (session=\"95e9dac2fc74472682fba87d8a594ef5\", element=\"79b83bd6-33b9-431d-a2b3-fda9925f9b67\")>,\n",
       " <selenium.webdriver.remote.webelement.WebElement (session=\"95e9dac2fc74472682fba87d8a594ef5\", element=\"4574b6b7-77d7-4b43-9c60-b694cd821e52\")>,\n",
       " <selenium.webdriver.remote.webelement.WebElement (session=\"95e9dac2fc74472682fba87d8a594ef5\", element=\"031cde11-8dc1-48f8-99ec-a4e7094f62e9\")>,\n",
       " <selenium.webdriver.remote.webelement.WebElement (session=\"95e9dac2fc74472682fba87d8a594ef5\", element=\"bdc1a913-7646-4288-bf1f-7bda160b5b35\")>,\n",
       " <selenium.webdriver.remote.webelement.WebElement (session=\"95e9dac2fc74472682fba87d8a594ef5\", element=\"43b1c42f-6dc8-4800-880a-18db86316845\")>]"
      ]
     },
     "execution_count": 56,
     "metadata": {},
     "output_type": "execute_result"
    }
   ],
   "source": [
    "book_categories"
   ]
  },
  {
   "cell_type": "code",
   "execution_count": 57,
   "id": "81ea19c1-3909-42a6-9d5b-1e6e865da686",
   "metadata": {},
   "outputs": [
    {
     "data": {
      "text/plain": [
       "'Category:Baptism of Fire characters'"
      ]
     },
     "execution_count": 57,
     "metadata": {},
     "output_type": "execute_result"
    }
   ],
   "source": [
    "book_categories[0].text"
   ]
  },
  {
   "cell_type": "code",
   "execution_count": 58,
   "id": "13e8f74e-fc68-4d55-ad59-1c4ad6709ac6",
   "metadata": {},
   "outputs": [
    {
     "data": {
      "text/plain": [
       "'https://witcher.fandom.com/wiki/Category:Baptism_of_Fire_characters'"
      ]
     },
     "execution_count": 58,
     "metadata": {},
     "output_type": "execute_result"
    }
   ],
   "source": [
    "book_categories[0].get_attribute('href')"
   ]
  },
  {
   "cell_type": "code",
   "execution_count": 59,
   "id": "9b839380-8bbc-4114-91d6-d58fc52383ee",
   "metadata": {},
   "outputs": [],
   "source": [
    "driver.get(book_categories[0].get_attribute('href'))"
   ]
  },
  {
   "cell_type": "code",
   "execution_count": 60,
   "id": "01594811-f93c-44eb-ab4e-b9f084a7be04",
   "metadata": {},
   "outputs": [],
   "source": [
    "character_elems= driver.find_elements(By.CLASS_NAME, 'category-page__member-link')"
   ]
  },
  {
   "cell_type": "code",
   "execution_count": 61,
   "id": "53837e46-e92c-479d-910d-67178473446d",
   "metadata": {},
   "outputs": [
    {
     "data": {
      "text/plain": [
       "[<selenium.webdriver.remote.webelement.WebElement (session=\"95e9dac2fc74472682fba87d8a594ef5\", element=\"2e8207c7-1f32-448d-bd42-3edfd20815fe\")>,\n",
       " <selenium.webdriver.remote.webelement.WebElement (session=\"95e9dac2fc74472682fba87d8a594ef5\", element=\"96decad5-618b-4e36-9353-1351d8b4cc57\")>,\n",
       " <selenium.webdriver.remote.webelement.WebElement (session=\"95e9dac2fc74472682fba87d8a594ef5\", element=\"d6d52587-d113-4e7a-b3b7-2ba39d27f77a\")>,\n",
       " <selenium.webdriver.remote.webelement.WebElement (session=\"95e9dac2fc74472682fba87d8a594ef5\", element=\"f1cda21d-f3ed-4202-9cda-d57427287ae9\")>,\n",
       " <selenium.webdriver.remote.webelement.WebElement (session=\"95e9dac2fc74472682fba87d8a594ef5\", element=\"936650f7-8a46-4ee1-a76b-38ef1f8a7769\")>,\n",
       " <selenium.webdriver.remote.webelement.WebElement (session=\"95e9dac2fc74472682fba87d8a594ef5\", element=\"c4524504-3083-4a46-a049-896b0d28d0b3\")>,\n",
       " <selenium.webdriver.remote.webelement.WebElement (session=\"95e9dac2fc74472682fba87d8a594ef5\", element=\"2788c1b9-b818-4b89-9bc9-5144a45186d1\")>,\n",
       " <selenium.webdriver.remote.webelement.WebElement (session=\"95e9dac2fc74472682fba87d8a594ef5\", element=\"043f774a-930d-4feb-bca7-99f74b9b0c46\")>,\n",
       " <selenium.webdriver.remote.webelement.WebElement (session=\"95e9dac2fc74472682fba87d8a594ef5\", element=\"554a9a4b-96fe-480d-a6ce-2c9a1105be7c\")>,\n",
       " <selenium.webdriver.remote.webelement.WebElement (session=\"95e9dac2fc74472682fba87d8a594ef5\", element=\"fc1ef4f3-2dbf-4fd1-934d-88d43726ce22\")>,\n",
       " <selenium.webdriver.remote.webelement.WebElement (session=\"95e9dac2fc74472682fba87d8a594ef5\", element=\"3091b21e-01cd-41e3-a9e8-c0386d762a8e\")>,\n",
       " <selenium.webdriver.remote.webelement.WebElement (session=\"95e9dac2fc74472682fba87d8a594ef5\", element=\"40232e5b-abfe-4d22-ad81-f7e1b59c7943\")>,\n",
       " <selenium.webdriver.remote.webelement.WebElement (session=\"95e9dac2fc74472682fba87d8a594ef5\", element=\"3083d0b9-33c6-47b7-b877-cfc74320214c\")>,\n",
       " <selenium.webdriver.remote.webelement.WebElement (session=\"95e9dac2fc74472682fba87d8a594ef5\", element=\"e7cfb75e-183d-4694-a86a-afb1e030139b\")>,\n",
       " <selenium.webdriver.remote.webelement.WebElement (session=\"95e9dac2fc74472682fba87d8a594ef5\", element=\"a1bf74f3-f0cf-4432-85f0-f3c2c9795328\")>,\n",
       " <selenium.webdriver.remote.webelement.WebElement (session=\"95e9dac2fc74472682fba87d8a594ef5\", element=\"9fdb8007-4563-4cfa-8c72-f6f056f19b6c\")>,\n",
       " <selenium.webdriver.remote.webelement.WebElement (session=\"95e9dac2fc74472682fba87d8a594ef5\", element=\"e21a3230-741e-4543-8aae-9218c1bf0b38\")>,\n",
       " <selenium.webdriver.remote.webelement.WebElement (session=\"95e9dac2fc74472682fba87d8a594ef5\", element=\"be009d2e-5e5e-4e4b-9470-6fedf5de723e\")>,\n",
       " <selenium.webdriver.remote.webelement.WebElement (session=\"95e9dac2fc74472682fba87d8a594ef5\", element=\"9f17b03b-a290-4e0e-bd93-8ea9c7b438f9\")>,\n",
       " <selenium.webdriver.remote.webelement.WebElement (session=\"95e9dac2fc74472682fba87d8a594ef5\", element=\"306d3e74-dea2-459d-97bd-1be60a82d1ff\")>,\n",
       " <selenium.webdriver.remote.webelement.WebElement (session=\"95e9dac2fc74472682fba87d8a594ef5\", element=\"ba064ece-8a99-4ee8-9fd3-6609b0cacaf0\")>,\n",
       " <selenium.webdriver.remote.webelement.WebElement (session=\"95e9dac2fc74472682fba87d8a594ef5\", element=\"05badf9e-4daf-47f5-adc7-17f0658bd014\")>,\n",
       " <selenium.webdriver.remote.webelement.WebElement (session=\"95e9dac2fc74472682fba87d8a594ef5\", element=\"d565ccde-552d-46d8-9c66-b188f5de162c\")>,\n",
       " <selenium.webdriver.remote.webelement.WebElement (session=\"95e9dac2fc74472682fba87d8a594ef5\", element=\"6c8fd2c4-7916-4b28-897d-e1c25ca9b787\")>,\n",
       " <selenium.webdriver.remote.webelement.WebElement (session=\"95e9dac2fc74472682fba87d8a594ef5\", element=\"f919030f-f916-4c42-a51d-49d58a8a6d7d\")>,\n",
       " <selenium.webdriver.remote.webelement.WebElement (session=\"95e9dac2fc74472682fba87d8a594ef5\", element=\"3994ed2e-4503-44e6-bfea-d3a835c53a77\")>,\n",
       " <selenium.webdriver.remote.webelement.WebElement (session=\"95e9dac2fc74472682fba87d8a594ef5\", element=\"7c427758-4732-4b70-8e90-0656563fa664\")>,\n",
       " <selenium.webdriver.remote.webelement.WebElement (session=\"95e9dac2fc74472682fba87d8a594ef5\", element=\"7f134d16-83e5-4f2b-ba92-8fda9dee9fca\")>,\n",
       " <selenium.webdriver.remote.webelement.WebElement (session=\"95e9dac2fc74472682fba87d8a594ef5\", element=\"d428a21f-7654-44e5-9bb0-3797ed0d6845\")>,\n",
       " <selenium.webdriver.remote.webelement.WebElement (session=\"95e9dac2fc74472682fba87d8a594ef5\", element=\"7683212f-01c6-4172-a9c4-fe329d860dd4\")>,\n",
       " <selenium.webdriver.remote.webelement.WebElement (session=\"95e9dac2fc74472682fba87d8a594ef5\", element=\"92bb9ec4-15fd-4d5f-9279-dc7d3990d6e8\")>,\n",
       " <selenium.webdriver.remote.webelement.WebElement (session=\"95e9dac2fc74472682fba87d8a594ef5\", element=\"678914ed-bd65-4185-9cc3-a600e73f723b\")>,\n",
       " <selenium.webdriver.remote.webelement.WebElement (session=\"95e9dac2fc74472682fba87d8a594ef5\", element=\"b19e2a1e-8b32-4393-826b-65a485f73a24\")>,\n",
       " <selenium.webdriver.remote.webelement.WebElement (session=\"95e9dac2fc74472682fba87d8a594ef5\", element=\"886d4f0c-53c2-48ec-b5dc-c99f04745a95\")>,\n",
       " <selenium.webdriver.remote.webelement.WebElement (session=\"95e9dac2fc74472682fba87d8a594ef5\", element=\"e9e5a630-b244-4a6c-a4cb-552e4d964cf8\")>,\n",
       " <selenium.webdriver.remote.webelement.WebElement (session=\"95e9dac2fc74472682fba87d8a594ef5\", element=\"de390a02-4822-4b77-859f-f1c6a15987a8\")>,\n",
       " <selenium.webdriver.remote.webelement.WebElement (session=\"95e9dac2fc74472682fba87d8a594ef5\", element=\"412adc4b-4d42-463b-8fd3-7238ca7587c7\")>,\n",
       " <selenium.webdriver.remote.webelement.WebElement (session=\"95e9dac2fc74472682fba87d8a594ef5\", element=\"328833aa-7bbf-412b-9a37-2f43d562bf5b\")>,\n",
       " <selenium.webdriver.remote.webelement.WebElement (session=\"95e9dac2fc74472682fba87d8a594ef5\", element=\"a7c9f0bb-9110-4362-9e21-02630197e346\")>,\n",
       " <selenium.webdriver.remote.webelement.WebElement (session=\"95e9dac2fc74472682fba87d8a594ef5\", element=\"16a18304-7e78-4be9-8d7d-e25d14029243\")>,\n",
       " <selenium.webdriver.remote.webelement.WebElement (session=\"95e9dac2fc74472682fba87d8a594ef5\", element=\"1a4ee7d6-e450-4bcc-92b8-3f4dbdf5ef8c\")>,\n",
       " <selenium.webdriver.remote.webelement.WebElement (session=\"95e9dac2fc74472682fba87d8a594ef5\", element=\"3da1dce5-b4e3-4c7b-962a-9eff6b19fdc9\")>,\n",
       " <selenium.webdriver.remote.webelement.WebElement (session=\"95e9dac2fc74472682fba87d8a594ef5\", element=\"472837e3-104a-41d8-aaae-59791101fae0\")>,\n",
       " <selenium.webdriver.remote.webelement.WebElement (session=\"95e9dac2fc74472682fba87d8a594ef5\", element=\"1ebf378f-0484-436c-951f-a9dd6cc7567e\")>,\n",
       " <selenium.webdriver.remote.webelement.WebElement (session=\"95e9dac2fc74472682fba87d8a594ef5\", element=\"459f86e7-338b-4dab-aa7e-076985fef0da\")>,\n",
       " <selenium.webdriver.remote.webelement.WebElement (session=\"95e9dac2fc74472682fba87d8a594ef5\", element=\"f4c47cf5-c306-448e-aee3-04ebb9991d5e\")>,\n",
       " <selenium.webdriver.remote.webelement.WebElement (session=\"95e9dac2fc74472682fba87d8a594ef5\", element=\"2e159422-7afa-44bd-a46a-8e4470be4c15\")>,\n",
       " <selenium.webdriver.remote.webelement.WebElement (session=\"95e9dac2fc74472682fba87d8a594ef5\", element=\"56f4afc0-02c2-464e-8c4b-de9a7f2c9cbd\")>,\n",
       " <selenium.webdriver.remote.webelement.WebElement (session=\"95e9dac2fc74472682fba87d8a594ef5\", element=\"2e1c38c7-0aa5-4768-bdc2-3ec40defdcd8\")>,\n",
       " <selenium.webdriver.remote.webelement.WebElement (session=\"95e9dac2fc74472682fba87d8a594ef5\", element=\"a1bed7ac-b497-4cca-b7b7-fa78c628c01f\")>,\n",
       " <selenium.webdriver.remote.webelement.WebElement (session=\"95e9dac2fc74472682fba87d8a594ef5\", element=\"a8a72ed7-6839-48a4-b612-3a05f3a752e2\")>,\n",
       " <selenium.webdriver.remote.webelement.WebElement (session=\"95e9dac2fc74472682fba87d8a594ef5\", element=\"2a95bfa1-b31f-4a23-af9e-be558d8bd820\")>,\n",
       " <selenium.webdriver.remote.webelement.WebElement (session=\"95e9dac2fc74472682fba87d8a594ef5\", element=\"4a94a6a8-1390-4c13-adc3-d1b0cc90e67c\")>,\n",
       " <selenium.webdriver.remote.webelement.WebElement (session=\"95e9dac2fc74472682fba87d8a594ef5\", element=\"c21d8589-257c-4318-81d7-ab9024ac7870\")>,\n",
       " <selenium.webdriver.remote.webelement.WebElement (session=\"95e9dac2fc74472682fba87d8a594ef5\", element=\"166e2473-1920-4af0-bb99-dfc52faad1bc\")>,\n",
       " <selenium.webdriver.remote.webelement.WebElement (session=\"95e9dac2fc74472682fba87d8a594ef5\", element=\"4621a86e-6377-4dbb-92a6-a6bd615aa198\")>,\n",
       " <selenium.webdriver.remote.webelement.WebElement (session=\"95e9dac2fc74472682fba87d8a594ef5\", element=\"04e8b9fa-2d9d-4505-9028-f5667a9a6d3c\")>,\n",
       " <selenium.webdriver.remote.webelement.WebElement (session=\"95e9dac2fc74472682fba87d8a594ef5\", element=\"1fbce6d2-ab3c-404f-8f57-cdde65ecafdf\")>,\n",
       " <selenium.webdriver.remote.webelement.WebElement (session=\"95e9dac2fc74472682fba87d8a594ef5\", element=\"afce251f-0a5b-4ca7-a46d-ae058ad4fdf0\")>,\n",
       " <selenium.webdriver.remote.webelement.WebElement (session=\"95e9dac2fc74472682fba87d8a594ef5\", element=\"4cc86597-ffab-4d6c-9427-91e87f36c5bd\")>,\n",
       " <selenium.webdriver.remote.webelement.WebElement (session=\"95e9dac2fc74472682fba87d8a594ef5\", element=\"90402ee7-1e2c-47be-8937-8053d8bed8b2\")>,\n",
       " <selenium.webdriver.remote.webelement.WebElement (session=\"95e9dac2fc74472682fba87d8a594ef5\", element=\"a585a8c9-61bd-41a3-b05a-8b6dddc20468\")>,\n",
       " <selenium.webdriver.remote.webelement.WebElement (session=\"95e9dac2fc74472682fba87d8a594ef5\", element=\"a4a24f48-0e49-4a41-8bed-47a57bfc21e8\")>,\n",
       " <selenium.webdriver.remote.webelement.WebElement (session=\"95e9dac2fc74472682fba87d8a594ef5\", element=\"bb6e8aa7-0c74-4afa-96d8-d607278c4bd5\")>,\n",
       " <selenium.webdriver.remote.webelement.WebElement (session=\"95e9dac2fc74472682fba87d8a594ef5\", element=\"4ec8c003-a722-439d-9d33-b02f4a48e47d\")>,\n",
       " <selenium.webdriver.remote.webelement.WebElement (session=\"95e9dac2fc74472682fba87d8a594ef5\", element=\"bf791e3e-062d-41e8-a063-eba2bfa8efac\")>,\n",
       " <selenium.webdriver.remote.webelement.WebElement (session=\"95e9dac2fc74472682fba87d8a594ef5\", element=\"5fe3626a-2987-4ee5-953d-db415e6e277c\")>,\n",
       " <selenium.webdriver.remote.webelement.WebElement (session=\"95e9dac2fc74472682fba87d8a594ef5\", element=\"ea476bb9-0e87-4a50-b72c-47559226d5fe\")>,\n",
       " <selenium.webdriver.remote.webelement.WebElement (session=\"95e9dac2fc74472682fba87d8a594ef5\", element=\"3f73dc6f-7748-4cf1-8d60-2eed7cd1d9c3\")>,\n",
       " <selenium.webdriver.remote.webelement.WebElement (session=\"95e9dac2fc74472682fba87d8a594ef5\", element=\"86d7d4b7-6d5c-47e7-9987-8369f71fb136\")>,\n",
       " <selenium.webdriver.remote.webelement.WebElement (session=\"95e9dac2fc74472682fba87d8a594ef5\", element=\"744ec33c-447e-4ff1-af28-9010bc92358e\")>,\n",
       " <selenium.webdriver.remote.webelement.WebElement (session=\"95e9dac2fc74472682fba87d8a594ef5\", element=\"ec907ed7-fe16-4c58-85cc-707bc6dac935\")>,\n",
       " <selenium.webdriver.remote.webelement.WebElement (session=\"95e9dac2fc74472682fba87d8a594ef5\", element=\"a49f4524-708a-4ee0-8067-e61603c399e9\")>,\n",
       " <selenium.webdriver.remote.webelement.WebElement (session=\"95e9dac2fc74472682fba87d8a594ef5\", element=\"3a8610e8-7629-4c9f-8c92-8310fb9027fb\")>,\n",
       " <selenium.webdriver.remote.webelement.WebElement (session=\"95e9dac2fc74472682fba87d8a594ef5\", element=\"e0eafe55-8840-4604-96e2-063eeb14ae53\")>,\n",
       " <selenium.webdriver.remote.webelement.WebElement (session=\"95e9dac2fc74472682fba87d8a594ef5\", element=\"4965ed3a-e86f-4809-9018-91abf515cf31\")>,\n",
       " <selenium.webdriver.remote.webelement.WebElement (session=\"95e9dac2fc74472682fba87d8a594ef5\", element=\"2e29e81c-70c7-48b5-9969-ecc9a15dbd5c\")>,\n",
       " <selenium.webdriver.remote.webelement.WebElement (session=\"95e9dac2fc74472682fba87d8a594ef5\", element=\"799c9427-aafa-413d-908e-f20d7c383dab\")>,\n",
       " <selenium.webdriver.remote.webelement.WebElement (session=\"95e9dac2fc74472682fba87d8a594ef5\", element=\"93cf3ba8-05e9-4f1b-82aa-f97afd50d2fc\")>,\n",
       " <selenium.webdriver.remote.webelement.WebElement (session=\"95e9dac2fc74472682fba87d8a594ef5\", element=\"a2ae80d1-1bc3-4f4a-adeb-aeac222a6b8d\")>,\n",
       " <selenium.webdriver.remote.webelement.WebElement (session=\"95e9dac2fc74472682fba87d8a594ef5\", element=\"b5877b26-79ea-4882-8236-2ad4983fb752\")>,\n",
       " <selenium.webdriver.remote.webelement.WebElement (session=\"95e9dac2fc74472682fba87d8a594ef5\", element=\"ee50e600-7b16-4320-9b1a-55bc027c0bda\")>,\n",
       " <selenium.webdriver.remote.webelement.WebElement (session=\"95e9dac2fc74472682fba87d8a594ef5\", element=\"96c86a28-a6f7-47b8-851c-49e3422cb586\")>,\n",
       " <selenium.webdriver.remote.webelement.WebElement (session=\"95e9dac2fc74472682fba87d8a594ef5\", element=\"34712ebe-cb7e-418b-9009-669d9c2ccdc6\")>,\n",
       " <selenium.webdriver.remote.webelement.WebElement (session=\"95e9dac2fc74472682fba87d8a594ef5\", element=\"9a8cfc91-b86c-4404-9260-e60f1fe56621\")>,\n",
       " <selenium.webdriver.remote.webelement.WebElement (session=\"95e9dac2fc74472682fba87d8a594ef5\", element=\"6415748b-5cc9-4ea6-bbaa-65ccc2c2c851\")>,\n",
       " <selenium.webdriver.remote.webelement.WebElement (session=\"95e9dac2fc74472682fba87d8a594ef5\", element=\"07494874-aa65-448c-bb3e-b0bceb1662e3\")>,\n",
       " <selenium.webdriver.remote.webelement.WebElement (session=\"95e9dac2fc74472682fba87d8a594ef5\", element=\"178534e5-d516-4b76-99ae-240e553cdab1\")>,\n",
       " <selenium.webdriver.remote.webelement.WebElement (session=\"95e9dac2fc74472682fba87d8a594ef5\", element=\"fd937603-667a-4c00-874a-d7b431de38fd\")>,\n",
       " <selenium.webdriver.remote.webelement.WebElement (session=\"95e9dac2fc74472682fba87d8a594ef5\", element=\"263c6bba-9a53-4827-910f-ba1c0bf19ff3\")>,\n",
       " <selenium.webdriver.remote.webelement.WebElement (session=\"95e9dac2fc74472682fba87d8a594ef5\", element=\"fbc67253-9d75-43a8-9b63-d0019f983d7f\")>,\n",
       " <selenium.webdriver.remote.webelement.WebElement (session=\"95e9dac2fc74472682fba87d8a594ef5\", element=\"a584ffc2-f29d-4257-aca0-848c0adeec1d\")>,\n",
       " <selenium.webdriver.remote.webelement.WebElement (session=\"95e9dac2fc74472682fba87d8a594ef5\", element=\"760bc95e-dba7-4622-96a7-b7c36fcef074\")>,\n",
       " <selenium.webdriver.remote.webelement.WebElement (session=\"95e9dac2fc74472682fba87d8a594ef5\", element=\"ad42422f-47cc-41a8-b03a-22e82fe4790d\")>,\n",
       " <selenium.webdriver.remote.webelement.WebElement (session=\"95e9dac2fc74472682fba87d8a594ef5\", element=\"3d1a2203-988a-4f40-834f-70d362d78082\")>,\n",
       " <selenium.webdriver.remote.webelement.WebElement (session=\"95e9dac2fc74472682fba87d8a594ef5\", element=\"c6d893df-8bbd-4b07-a79e-3db9f2175107\")>,\n",
       " <selenium.webdriver.remote.webelement.WebElement (session=\"95e9dac2fc74472682fba87d8a594ef5\", element=\"d85c33da-3871-4534-9674-497612dd15e8\")>,\n",
       " <selenium.webdriver.remote.webelement.WebElement (session=\"95e9dac2fc74472682fba87d8a594ef5\", element=\"20b4d6ba-d93b-4396-8727-6dcdc59e9fee\")>,\n",
       " <selenium.webdriver.remote.webelement.WebElement (session=\"95e9dac2fc74472682fba87d8a594ef5\", element=\"98396452-6dce-477d-ae7c-e1545b3a11c2\")>,\n",
       " <selenium.webdriver.remote.webelement.WebElement (session=\"95e9dac2fc74472682fba87d8a594ef5\", element=\"ee00d621-f505-42d8-91f4-243a470e5111\")>,\n",
       " <selenium.webdriver.remote.webelement.WebElement (session=\"95e9dac2fc74472682fba87d8a594ef5\", element=\"5d8727a2-8beb-4b2a-83bf-6656b4355445\")>,\n",
       " <selenium.webdriver.remote.webelement.WebElement (session=\"95e9dac2fc74472682fba87d8a594ef5\", element=\"c2aea318-14e1-497a-83b1-5d20d0a32828\")>,\n",
       " <selenium.webdriver.remote.webelement.WebElement (session=\"95e9dac2fc74472682fba87d8a594ef5\", element=\"31bb67b2-8923-4e44-98a8-8c463c8f75c7\")>,\n",
       " <selenium.webdriver.remote.webelement.WebElement (session=\"95e9dac2fc74472682fba87d8a594ef5\", element=\"3f3cb96c-9844-49e8-af02-84e3a6b24e7b\")>,\n",
       " <selenium.webdriver.remote.webelement.WebElement (session=\"95e9dac2fc74472682fba87d8a594ef5\", element=\"7ec2067a-eb1f-4f56-a85e-1be6a075c101\")>,\n",
       " <selenium.webdriver.remote.webelement.WebElement (session=\"95e9dac2fc74472682fba87d8a594ef5\", element=\"cd65bb4b-3f60-44e5-9e60-0bc9e9c07d06\")>,\n",
       " <selenium.webdriver.remote.webelement.WebElement (session=\"95e9dac2fc74472682fba87d8a594ef5\", element=\"724672a8-efe9-4dab-9ccd-ae80f9e1f2ac\")>,\n",
       " <selenium.webdriver.remote.webelement.WebElement (session=\"95e9dac2fc74472682fba87d8a594ef5\", element=\"5ea73e48-1127-4efd-86fb-21934233af75\")>,\n",
       " <selenium.webdriver.remote.webelement.WebElement (session=\"95e9dac2fc74472682fba87d8a594ef5\", element=\"ff41fd8f-1be3-4f50-840e-103ce8b38ae7\")>,\n",
       " <selenium.webdriver.remote.webelement.WebElement (session=\"95e9dac2fc74472682fba87d8a594ef5\", element=\"6d48242c-eebb-46c8-b98b-9a0d4807fa7e\")>,\n",
       " <selenium.webdriver.remote.webelement.WebElement (session=\"95e9dac2fc74472682fba87d8a594ef5\", element=\"6bb56199-47e9-4973-a427-62b72ddecaee\")>,\n",
       " <selenium.webdriver.remote.webelement.WebElement (session=\"95e9dac2fc74472682fba87d8a594ef5\", element=\"7c717bed-52a2-482e-b74a-4e01843e7201\")>,\n",
       " <selenium.webdriver.remote.webelement.WebElement (session=\"95e9dac2fc74472682fba87d8a594ef5\", element=\"d750663c-898c-4d45-ac07-5de9a624cc39\")>,\n",
       " <selenium.webdriver.remote.webelement.WebElement (session=\"95e9dac2fc74472682fba87d8a594ef5\", element=\"26c6c179-6260-49da-9035-e301253eb598\")>,\n",
       " <selenium.webdriver.remote.webelement.WebElement (session=\"95e9dac2fc74472682fba87d8a594ef5\", element=\"5333d2f8-30b1-4e2e-89ef-3a21972da7ba\")>,\n",
       " <selenium.webdriver.remote.webelement.WebElement (session=\"95e9dac2fc74472682fba87d8a594ef5\", element=\"75f6cab4-8c34-492c-9efe-a43cc2007d54\")>,\n",
       " <selenium.webdriver.remote.webelement.WebElement (session=\"95e9dac2fc74472682fba87d8a594ef5\", element=\"f6dd65e6-faba-47d8-930b-340a8fe37a58\")>,\n",
       " <selenium.webdriver.remote.webelement.WebElement (session=\"95e9dac2fc74472682fba87d8a594ef5\", element=\"022ea2b5-e551-4911-8c70-5dced2677275\")>,\n",
       " <selenium.webdriver.remote.webelement.WebElement (session=\"95e9dac2fc74472682fba87d8a594ef5\", element=\"87fe681b-78b8-499a-af30-9acb2c1d05e5\")>,\n",
       " <selenium.webdriver.remote.webelement.WebElement (session=\"95e9dac2fc74472682fba87d8a594ef5\", element=\"b55cf23e-c789-49c3-946a-c2dbe96eb747\")>,\n",
       " <selenium.webdriver.remote.webelement.WebElement (session=\"95e9dac2fc74472682fba87d8a594ef5\", element=\"85c5c43f-88e5-4cea-a483-7638b07e9427\")>,\n",
       " <selenium.webdriver.remote.webelement.WebElement (session=\"95e9dac2fc74472682fba87d8a594ef5\", element=\"39178905-7772-45a1-9fc9-184a19612009\")>,\n",
       " <selenium.webdriver.remote.webelement.WebElement (session=\"95e9dac2fc74472682fba87d8a594ef5\", element=\"22427bcf-c0db-486a-8ed5-ab179d9dde78\")>,\n",
       " <selenium.webdriver.remote.webelement.WebElement (session=\"95e9dac2fc74472682fba87d8a594ef5\", element=\"7a919b6e-2cf5-412e-aac1-4b8552025dec\")>,\n",
       " <selenium.webdriver.remote.webelement.WebElement (session=\"95e9dac2fc74472682fba87d8a594ef5\", element=\"d40b9b9a-0442-4c14-aba4-0c4ab3014d34\")>,\n",
       " <selenium.webdriver.remote.webelement.WebElement (session=\"95e9dac2fc74472682fba87d8a594ef5\", element=\"00b95932-3bf6-4913-9017-ab7fca66c1c7\")>,\n",
       " <selenium.webdriver.remote.webelement.WebElement (session=\"95e9dac2fc74472682fba87d8a594ef5\", element=\"4d0c2bf5-6561-47eb-b80e-1f2fd2739c78\")>,\n",
       " <selenium.webdriver.remote.webelement.WebElement (session=\"95e9dac2fc74472682fba87d8a594ef5\", element=\"ab600ee1-4550-44fb-9109-9b3c13981333\")>,\n",
       " <selenium.webdriver.remote.webelement.WebElement (session=\"95e9dac2fc74472682fba87d8a594ef5\", element=\"22cac4dc-719d-4291-90f1-a15bbe0f622e\")>,\n",
       " <selenium.webdriver.remote.webelement.WebElement (session=\"95e9dac2fc74472682fba87d8a594ef5\", element=\"ebb42c33-8324-4767-b5f9-99c7825a6199\")>,\n",
       " <selenium.webdriver.remote.webelement.WebElement (session=\"95e9dac2fc74472682fba87d8a594ef5\", element=\"bdfd959f-2f21-4e72-ae6d-16be2029f2da\")>,\n",
       " <selenium.webdriver.remote.webelement.WebElement (session=\"95e9dac2fc74472682fba87d8a594ef5\", element=\"256e32ea-4dbd-45d7-b240-101d97a8bdb4\")>,\n",
       " <selenium.webdriver.remote.webelement.WebElement (session=\"95e9dac2fc74472682fba87d8a594ef5\", element=\"f19e96a8-4ecc-4fa5-8a46-4da0907e67ed\")>,\n",
       " <selenium.webdriver.remote.webelement.WebElement (session=\"95e9dac2fc74472682fba87d8a594ef5\", element=\"3d62045b-3e87-4f8d-91cf-01283e4cf0b8\")>,\n",
       " <selenium.webdriver.remote.webelement.WebElement (session=\"95e9dac2fc74472682fba87d8a594ef5\", element=\"35f4c40e-5509-4437-b6ea-87f1a0b519d0\")>,\n",
       " <selenium.webdriver.remote.webelement.WebElement (session=\"95e9dac2fc74472682fba87d8a594ef5\", element=\"fba0461e-a22a-4ef3-8e9f-d04c8a1329af\")>,\n",
       " <selenium.webdriver.remote.webelement.WebElement (session=\"95e9dac2fc74472682fba87d8a594ef5\", element=\"c991ac74-560b-4886-baa2-ce26e927de92\")>,\n",
       " <selenium.webdriver.remote.webelement.WebElement (session=\"95e9dac2fc74472682fba87d8a594ef5\", element=\"eacf1936-0099-4204-8747-13292c0eb5a9\")>,\n",
       " <selenium.webdriver.remote.webelement.WebElement (session=\"95e9dac2fc74472682fba87d8a594ef5\", element=\"76599652-c018-46ee-a3fe-70653c47631e\")>,\n",
       " <selenium.webdriver.remote.webelement.WebElement (session=\"95e9dac2fc74472682fba87d8a594ef5\", element=\"dd2a2816-6c86-4fe7-afa3-729b7b81e886\")>,\n",
       " <selenium.webdriver.remote.webelement.WebElement (session=\"95e9dac2fc74472682fba87d8a594ef5\", element=\"24b3cc17-6d52-44c8-a585-bfac3b435420\")>,\n",
       " <selenium.webdriver.remote.webelement.WebElement (session=\"95e9dac2fc74472682fba87d8a594ef5\", element=\"f018a852-8be0-4cf3-8a1b-8a73c9dbad4b\")>,\n",
       " <selenium.webdriver.remote.webelement.WebElement (session=\"95e9dac2fc74472682fba87d8a594ef5\", element=\"29432053-3ab1-49f8-ab3c-b03fb323ebf5\")>,\n",
       " <selenium.webdriver.remote.webelement.WebElement (session=\"95e9dac2fc74472682fba87d8a594ef5\", element=\"a911bd21-496d-4818-9273-4f5ddb0fc7cd\")>,\n",
       " <selenium.webdriver.remote.webelement.WebElement (session=\"95e9dac2fc74472682fba87d8a594ef5\", element=\"b43afc60-eeac-4133-a6bf-8ae06a96cd58\")>,\n",
       " <selenium.webdriver.remote.webelement.WebElement (session=\"95e9dac2fc74472682fba87d8a594ef5\", element=\"910e641c-bd1e-49a8-8eae-046a3b691792\")>,\n",
       " <selenium.webdriver.remote.webelement.WebElement (session=\"95e9dac2fc74472682fba87d8a594ef5\", element=\"7c8db912-6bfd-4167-a787-6f9c6e1fe319\")>]"
      ]
     },
     "execution_count": 61,
     "metadata": {},
     "output_type": "execute_result"
    }
   ],
   "source": [
    "character_elems"
   ]
  },
  {
   "cell_type": "code",
   "execution_count": 62,
   "id": "68bb216c-6b27-47ea-9db1-ee7516201cd1",
   "metadata": {},
   "outputs": [
    {
     "data": {
      "text/plain": [
       "'Adalia'"
      ]
     },
     "execution_count": 62,
     "metadata": {},
     "output_type": "execute_result"
    }
   ],
   "source": [
    "character_elems[0].text"
   ]
  },
  {
   "cell_type": "code",
   "execution_count": 63,
   "id": "ad26bcb0-bb21-4de8-8ea0-bbc3690f85a0",
   "metadata": {},
   "outputs": [],
   "source": [
    "# Find books"
   ]
  },
  {
   "cell_type": "code",
   "execution_count": 64,
   "id": "7bbcf477-c591-4633-a8e6-fe584e48e276",
   "metadata": {},
   "outputs": [],
   "source": [
    "book_categories = driver.find_elements(by=By.CLASS_NAME, value='category-page__member-link')\n",
    "\n",
    "books = []\n",
    "for category in book_categories:\n",
    "    book_url = category.get_attribute('href')\n",
    "    book_name = category.text\n",
    "    books.append({'book_name': book_name, \"url\": book_url})"
   ]
  },
  {
   "cell_type": "code",
   "execution_count": 81,
   "id": "c11da305-3b4c-43a5-834c-f798e66096fb",
   "metadata": {},
   "outputs": [
    {
     "data": {
      "text/plain": [
       "[{'book_name': 'Adalia', 'url': 'https://witcher.fandom.com/wiki/Adalia'},\n",
       " {'book_name': 'Adela', 'url': 'https://witcher.fandom.com/wiki/Adela'},\n",
       " {'book_name': 'Aen Saevherne',\n",
       "  'url': 'https://witcher.fandom.com/wiki/Aen_Saevherne'},\n",
       " {'book_name': 'Aevenien', 'url': 'https://witcher.fandom.com/wiki/Aevenien'},\n",
       " {'book_name': 'Aglaïs', 'url': 'https://witcher.fandom.com/wiki/Agla%C3%AFs'},\n",
       " {'book_name': 'Albrich', 'url': 'https://witcher.fandom.com/wiki/Albrich'},\n",
       " {'book_name': 'Amavet', 'url': 'https://witcher.fandom.com/wiki/Amavet'},\n",
       " {'book_name': 'Angus Bri Cri',\n",
       "  'url': 'https://witcher.fandom.com/wiki/Angus_Bri_Cri'},\n",
       " {'book_name': 'Anna Kameny',\n",
       "  'url': 'https://witcher.fandom.com/wiki/Anna_Kameny'},\n",
       " {'book_name': 'Anzelm Aubry',\n",
       "  'url': 'https://witcher.fandom.com/wiki/Anzelm_Aubry'},\n",
       " {'book_name': 'Artaud Terranova',\n",
       "  'url': 'https://witcher.fandom.com/wiki/Artaud_Terranova'},\n",
       " {'book_name': 'Asse', 'url': 'https://witcher.fandom.com/wiki/Asse'},\n",
       " {'book_name': 'Assire var Anahid',\n",
       "  'url': 'https://witcher.fandom.com/wiki/Assire_var_Anahid'},\n",
       " {'book_name': 'Aubry (first born)',\n",
       "  'url': 'https://witcher.fandom.com/wiki/Aubry_(first_born)'},\n",
       " {'book_name': 'Augusta Wagner',\n",
       "  'url': 'https://witcher.fandom.com/wiki/Augusta_Wagner'},\n",
       " {'book_name': 'Baron of Casadei',\n",
       "  'url': 'https://witcher.fandom.com/wiki/Baron_of_Casadei'},\n",
       " {'book_name': 'Beatrix of Kovir',\n",
       "  'url': 'https://witcher.fandom.com/wiki/Beatrix_of_Kovir'},\n",
       " {'book_name': 'Bronik', 'url': 'https://witcher.fandom.com/wiki/Bronik'},\n",
       " {'book_name': 'Brouver Hoog',\n",
       "  'url': 'https://witcher.fandom.com/wiki/Brouver_Hoog'},\n",
       " {'book_name': 'Cahir Mawr Dyffryn aep Ceallach',\n",
       "  'url': 'https://witcher.fandom.com/wiki/Cahir_Mawr_Dyffryn_aep_Ceallach'},\n",
       " {'book_name': 'Calanthe', 'url': 'https://witcher.fandom.com/wiki/Calanthe'},\n",
       " {'book_name': 'Caleb Stratton',\n",
       "  'url': 'https://witcher.fandom.com/wiki/Caleb_Stratton'},\n",
       " {'book_name': 'Carduin', 'url': 'https://witcher.fandom.com/wiki/Carduin'},\n",
       " {'book_name': 'Ceallach aep Gruffyd',\n",
       "  'url': 'https://witcher.fandom.com/wiki/Ceallach_aep_Gruffyd'},\n",
       " {'book_name': 'Cerro', 'url': 'https://witcher.fandom.com/wiki/Cerro'},\n",
       " {'book_name': 'Ciaran aep Dearbh',\n",
       "  'url': 'https://witcher.fandom.com/wiki/Ciaran_aep_Dearbh'},\n",
       " {'book_name': 'Ciri', 'url': 'https://witcher.fandom.com/wiki/Ciri'},\n",
       " {'book_name': 'Cirilla Fiona (imposter)',\n",
       "  'url': 'https://witcher.fandom.com/wiki/Cirilla_Fiona_(imposter)'},\n",
       " {'book_name': 'Codringher',\n",
       "  'url': 'https://witcher.fandom.com/wiki/Codringher'},\n",
       " {'book_name': 'Coinneach Dá Reo',\n",
       "  'url': 'https://witcher.fandom.com/wiki/Coinneach_D%C3%A1_Reo'},\n",
       " {'book_name': 'Connor', 'url': 'https://witcher.fandom.com/wiki/Connor'},\n",
       " {'book_name': 'Coram I', 'url': 'https://witcher.fandom.com/wiki/Coram_I'},\n",
       " {'book_name': 'Coram II', 'url': 'https://witcher.fandom.com/wiki/Coram_II'},\n",
       " {'book_name': 'Corbett', 'url': 'https://witcher.fandom.com/wiki/Corbett'},\n",
       " {'book_name': 'Cosmo Baldenvegg',\n",
       "  'url': 'https://witcher.fandom.com/wiki/Cosmo_Baldenvegg'},\n",
       " {'book_name': 'Count Lanier',\n",
       "  'url': 'https://witcher.fandom.com/wiki/Count_Lanier'},\n",
       " {'book_name': 'Cregennan of Lod',\n",
       "  'url': 'https://witcher.fandom.com/wiki/Cregennan_of_Lod'},\n",
       " {'book_name': 'Crispin', 'url': 'https://witcher.fandom.com/wiki/Crispin'},\n",
       " {'book_name': 'Dagorad', 'url': 'https://witcher.fandom.com/wiki/Dagorad'},\n",
       " {'book_name': 'Dandelion',\n",
       "  'url': 'https://witcher.fandom.com/wiki/Dandelion'},\n",
       " {'book_name': 'Daniel Etcheverry',\n",
       "  'url': 'https://witcher.fandom.com/wiki/Daniel_Etcheverry'},\n",
       " {'book_name': 'Demavend III',\n",
       "  'url': 'https://witcher.fandom.com/wiki/Demavend_III'},\n",
       " {'book_name': 'Echel Traighlethan',\n",
       "  'url': 'https://witcher.fandom.com/wiki/Echel_Traighlethan'},\n",
       " {'book_name': 'Effenberg',\n",
       "  'url': 'https://witcher.fandom.com/wiki/Effenberg'},\n",
       " {'book_name': 'Eithné', 'url': 'https://witcher.fandom.com/wiki/Eithn%C3%A9'},\n",
       " {'book_name': 'Elan Trahe',\n",
       "  'url': 'https://witcher.fandom.com/wiki/Elan_Trahe'},\n",
       " {'book_name': 'Elen of Kaedwen',\n",
       "  'url': 'https://witcher.fandom.com/wiki/Elen_of_Kaedwen'},\n",
       " {'book_name': 'Emhyr var Emreis',\n",
       "  'url': 'https://witcher.fandom.com/wiki/Emhyr_var_Emreis'},\n",
       " {'book_name': 'Emiel Regis Rohellec Terzieff-Godefroy',\n",
       "  'url': 'https://witcher.fandom.com/wiki/Emiel_Regis_Rohellec_Terzieff-Godefroy'},\n",
       " {'book_name': 'Ethain', 'url': 'https://witcher.fandom.com/wiki/Ethain'},\n",
       " {'book_name': 'Falka', 'url': 'https://witcher.fandom.com/wiki/Falka'},\n",
       " {'book_name': 'Falka (alias)',\n",
       "  'url': 'https://witcher.fandom.com/wiki/Falka_(alias)'},\n",
       " {'book_name': 'Fauve', 'url': 'https://witcher.fandom.com/wiki/Fauve'},\n",
       " {'book_name': 'Field Marshal Windbag',\n",
       "  'url': 'https://witcher.fandom.com/wiki/Field_Marshal_Windbag'},\n",
       " {'book_name': 'Figgis Merluzzo',\n",
       "  'url': 'https://witcher.fandom.com/wiki/Figgis_Merluzzo'},\n",
       " {'book_name': 'Fiona', 'url': 'https://witcher.fandom.com/wiki/Fiona'},\n",
       " {'book_name': 'Flourens Delannoy',\n",
       "  'url': 'https://witcher.fandom.com/wiki/Flourens_Delannoy'},\n",
       " {'book_name': 'Francesca Findabair',\n",
       "  'url': 'https://witcher.fandom.com/wiki/Francesca_Findabair'},\n",
       " {'book_name': 'Fringilla Vigo',\n",
       "  'url': 'https://witcher.fandom.com/wiki/Fringilla_Vigo'},\n",
       " {'book_name': 'Geralt of Rivia',\n",
       "  'url': 'https://witcher.fandom.com/wiki/Geralt_of_Rivia'},\n",
       " {'book_name': 'Gerhart of Aelle',\n",
       "  'url': 'https://witcher.fandom.com/wiki/Gerhart_of_Aelle'},\n",
       " {'book_name': 'Giselher', 'url': 'https://witcher.fandom.com/wiki/Giselher'},\n",
       " {'book_name': 'Goidemar', 'url': 'https://witcher.fandom.com/wiki/Goidemar'},\n",
       " {'book_name': 'Havekar', 'url': 'https://witcher.fandom.com/wiki/Havekar'},\n",
       " {'book_name': 'Hector Laabs',\n",
       "  'url': 'https://witcher.fandom.com/wiki/Hector_Laabs'},\n",
       " {'book_name': 'Hedwig of Malleore',\n",
       "  'url': 'https://witcher.fandom.com/wiki/Hedwig_of_Malleore'},\n",
       " {'book_name': 'Henselt', 'url': 'https://witcher.fandom.com/wiki/Henselt'},\n",
       " {'book_name': 'Houtborg triplets',\n",
       "  'url': 'https://witcher.fandom.com/wiki/Houtborg_triplets'},\n",
       " {'book_name': 'Ida Emean aep Sivney',\n",
       "  'url': 'https://witcher.fandom.com/wiki/Ida_Emean_aep_Sivney'},\n",
       " {'book_name': 'Iorweth', 'url': 'https://witcher.fandom.com/wiki/Iorweth'},\n",
       " {'book_name': 'Isengrim Faoiltiarna',\n",
       "  'url': 'https://witcher.fandom.com/wiki/Isengrim_Faoiltiarna'},\n",
       " {'book_name': 'Iskra', 'url': 'https://witcher.fandom.com/wiki/Iskra'},\n",
       " {'book_name': 'Istredd', 'url': 'https://witcher.fandom.com/wiki/Istredd'},\n",
       " {'book_name': 'Ithlinne', 'url': 'https://witcher.fandom.com/wiki/Ithlinne'},\n",
       " {'book_name': 'Jacob Fenn',\n",
       "  'url': 'https://witcher.fandom.com/wiki/Jacob_Fenn'},\n",
       " {'book_name': 'Jan Lennep',\n",
       "  'url': 'https://witcher.fandom.com/wiki/Jan_Lennep'},\n",
       " {'book_name': 'Jan Struycken',\n",
       "  'url': 'https://witcher.fandom.com/wiki/Jan_Struycken'},\n",
       " {'book_name': 'Jolie Lanier',\n",
       "  'url': 'https://witcher.fandom.com/wiki/Jolie_Lanier'},\n",
       " {'book_name': 'Kayleigh', 'url': 'https://witcher.fandom.com/wiki/Kayleigh'},\n",
       " {'book_name': 'Keira Metz',\n",
       "  'url': 'https://witcher.fandom.com/wiki/Keira_Metz'},\n",
       " {'book_name': 'Kolda', 'url': 'https://witcher.fandom.com/wiki/Kolda'},\n",
       " {'book_name': 'Lara Dorren',\n",
       "  'url': 'https://witcher.fandom.com/wiki/Lara_Dorren'},\n",
       " {'book_name': 'Leo Bonhart',\n",
       "  'url': 'https://witcher.fandom.com/wiki/Leo_Bonhart'},\n",
       " {'book_name': 'Leticia Charbonneau',\n",
       "  'url': 'https://witcher.fandom.com/wiki/Leticia_Charbonneau'},\n",
       " {'book_name': 'Lucretia Vigo',\n",
       "  'url': 'https://witcher.fandom.com/wiki/Lucretia_Vigo'},\n",
       " {'book_name': 'Margarita Laux-Antille',\n",
       "  'url': 'https://witcher.fandom.com/wiki/Margarita_Laux-Antille'},\n",
       " {'book_name': 'Merlin', 'url': 'https://witcher.fandom.com/wiki/Merlin'},\n",
       " {'book_name': 'Meve', 'url': 'https://witcher.fandom.com/wiki/Meve'},\n",
       " {'book_name': 'Milenka', 'url': 'https://witcher.fandom.com/wiki/Milenka'},\n",
       " {'book_name': 'Millet', 'url': 'https://witcher.fandom.com/wiki/Millet'},\n",
       " {'book_name': 'Milva', 'url': 'https://witcher.fandom.com/wiki/Milva'},\n",
       " {'book_name': 'Mistle', 'url': 'https://witcher.fandom.com/wiki/Mistle'},\n",
       " {'book_name': 'Morteisen',\n",
       "  'url': 'https://witcher.fandom.com/wiki/Morteisen'},\n",
       " {'book_name': 'Munro Bruys',\n",
       "  'url': 'https://witcher.fandom.com/wiki/Munro_Bruys'},\n",
       " {'book_name': 'Muriel', 'url': 'https://witcher.fandom.com/wiki/Muriel'},\n",
       " {'book_name': 'Mykitka', 'url': 'https://witcher.fandom.com/wiki/Mykitka'},\n",
       " {'book_name': 'Nazarian', 'url': 'https://witcher.fandom.com/wiki/Nazarian'},\n",
       " {'book_name': 'Nimue verch Wledyr ap Gwyn',\n",
       "  'url': 'https://witcher.fandom.com/wiki/Nimue_verch_Wledyr_ap_Gwyn'},\n",
       " {'book_name': 'Ori Reuven',\n",
       "  'url': 'https://witcher.fandom.com/wiki/Ori_Reuven'},\n",
       " {'book_name': 'Orla', 'url': 'https://witcher.fandom.com/wiki/Orla'},\n",
       " {'book_name': 'Papebrock',\n",
       "  'url': 'https://witcher.fandom.com/wiki/Papebrock'},\n",
       " {'book_name': 'Percival Schuttenbach',\n",
       "  'url': 'https://witcher.fandom.com/wiki/Percival_Schuttenbach'},\n",
       " {'book_name': 'Philippa Eilhart',\n",
       "  'url': 'https://witcher.fandom.com/wiki/Philippa_Eilhart'},\n",
       " {'book_name': 'Pinto', 'url': 'https://witcher.fandom.com/wiki/Pinto'},\n",
       " {'book_name': 'Radovid V',\n",
       "  'url': 'https://witcher.fandom.com/wiki/Radovid_V'},\n",
       " {'book_name': 'Reef', 'url': 'https://witcher.fandom.com/wiki/Reef'},\n",
       " {'book_name': 'Reynard Odo',\n",
       "  'url': 'https://witcher.fandom.com/wiki/Reynard_Odo'},\n",
       " {'book_name': 'Riannon', 'url': 'https://witcher.fandom.com/wiki/Riannon'},\n",
       " {'book_name': 'Rience', 'url': 'https://witcher.fandom.com/wiki/Rience'},\n",
       " {'book_name': 'Riordain', 'url': 'https://witcher.fandom.com/wiki/Riordain'},\n",
       " {'book_name': 'Roach', 'url': 'https://witcher.fandom.com/wiki/Roach'},\n",
       " {'book_name': 'Robert of Garramone',\n",
       "  'url': 'https://witcher.fandom.com/wiki/Robert_of_Garramone'},\n",
       " {'book_name': 'Roger Kameny',\n",
       "  'url': 'https://witcher.fandom.com/wiki/Roger_Kameny'},\n",
       " {'book_name': 'Sabrina Glevissig',\n",
       "  'url': 'https://witcher.fandom.com/wiki/Sabrina_Glevissig'},\n",
       " {'book_name': 'Schirrú',\n",
       "  'url': 'https://witcher.fandom.com/wiki/Schirr%C3%BA'},\n",
       " {'book_name': 'Servadio', 'url': 'https://witcher.fandom.com/wiki/Servadio'},\n",
       " {'book_name': 'Sheala de Tancarville',\n",
       "  'url': 'https://witcher.fandom.com/wiki/Sheala_de_Tancarville'},\n",
       " {'book_name': 'Shilard Fitz-Oesterlen',\n",
       "  'url': 'https://witcher.fandom.com/wiki/Shilard_Fitz-Oesterlen'},\n",
       " {'book_name': 'Sievers', 'url': 'https://witcher.fandom.com/wiki/Sievers'},\n",
       " {'book_name': 'Sigismund Dijkstra',\n",
       "  'url': 'https://witcher.fandom.com/wiki/Sigismund_Dijkstra'},\n",
       " {'book_name': 'Silvester Bugiardo',\n",
       "  'url': 'https://witcher.fandom.com/wiki/Silvester_Bugiardo'},\n",
       " {'book_name': 'Simlas Finn aep Dabairr',\n",
       "  'url': 'https://witcher.fandom.com/wiki/Simlas_Finn_aep_Dabairr'},\n",
       " {'book_name': 'Sirssa', 'url': 'https://witcher.fandom.com/wiki/Sirssa'},\n",
       " {'book_name': 'Stefan Skellen',\n",
       "  'url': 'https://witcher.fandom.com/wiki/Stefan_Skellen'},\n",
       " {'book_name': 'Stella Congreve',\n",
       "  'url': 'https://witcher.fandom.com/wiki/Stella_Congreve'},\n",
       " {'book_name': 'Stribog', 'url': 'https://witcher.fandom.com/wiki/Stribog'},\n",
       " {'book_name': 'Stucco Zangenis',\n",
       "  'url': 'https://witcher.fandom.com/wiki/Stucco_Zangenis'},\n",
       " {'book_name': 'Talbot', 'url': 'https://witcher.fandom.com/wiki/Talbot'},\n",
       " {'book_name': 'Tissaia de Vries',\n",
       "  'url': 'https://witcher.fandom.com/wiki/Tissaia_de_Vries'},\n",
       " {'book_name': 'Toruviel', 'url': 'https://witcher.fandom.com/wiki/Toruviel'},\n",
       " {'book_name': 'Triss Merigold',\n",
       "  'url': 'https://witcher.fandom.com/wiki/Triss_Merigold'},\n",
       " {'book_name': 'Tugdual', 'url': 'https://witcher.fandom.com/wiki/Tugdual'},\n",
       " {'book_name': 'Tuzik', 'url': 'https://witcher.fandom.com/wiki/Tuzik'},\n",
       " {'book_name': 'Vanadain', 'url': 'https://witcher.fandom.com/wiki/Vanadain'},\n",
       " {'book_name': 'Vascoigne',\n",
       "  'url': 'https://witcher.fandom.com/wiki/Vascoigne'},\n",
       " {'book_name': 'Vattier de Rideaux',\n",
       "  'url': 'https://witcher.fandom.com/wiki/Vattier_de_Rideaux'},\n",
       " {'book_name': 'Vera Loewenhaupt',\n",
       "  'url': 'https://witcher.fandom.com/wiki/Vera_Loewenhaupt'},\n",
       " {'book_name': 'Vilgefortz',\n",
       "  'url': 'https://witcher.fandom.com/wiki/Vilgefortz'},\n",
       " {'book_name': 'Vissegerd',\n",
       "  'url': 'https://witcher.fandom.com/wiki/Vissegerd'},\n",
       " {'book_name': 'Vizimir II',\n",
       "  'url': 'https://witcher.fandom.com/wiki/Vizimir_II'},\n",
       " {'book_name': 'Vreemde', 'url': 'https://witcher.fandom.com/wiki/Vreemde'},\n",
       " {'book_name': 'Vridank', 'url': 'https://witcher.fandom.com/wiki/Vridank'},\n",
       " {'book_name': 'Xarthisius',\n",
       "  'url': 'https://witcher.fandom.com/wiki/Xarthisius'},\n",
       " {'book_name': 'Yazon Varda',\n",
       "  'url': 'https://witcher.fandom.com/wiki/Yazon_Varda'},\n",
       " {'book_name': 'Yennefer of Vengerberg',\n",
       "  'url': 'https://witcher.fandom.com/wiki/Yennefer_of_Vengerberg'},\n",
       " {'book_name': 'Zgarba', 'url': 'https://witcher.fandom.com/wiki/Zgarba'},\n",
       " {'book_name': 'Zoltan Chivay',\n",
       "  'url': 'https://witcher.fandom.com/wiki/Zoltan_Chivay'}]"
      ]
     },
     "execution_count": 81,
     "metadata": {},
     "output_type": "execute_result"
    }
   ],
   "source": [
    "books"
   ]
  },
  {
   "cell_type": "code",
   "execution_count": 96,
   "id": "7ae8cc72-92f4-44ab-b04a-fb9cbc7be3a8",
   "metadata": {},
   "outputs": [],
   "source": [
    "character_list =[]\n",
    "\n",
    "for book in books:\n",
    "    # go to book page\n",
    "    driver.get(book['url'])\n",
    "    \n",
    "    character_elems = driver.find_elements(by=By.CLASS_NAME, value = 'category-page__member-link')\n",
    "    \n",
    "    for elem in character_elems:\n",
    "        character_list.append({'book': book['book_name'],'character': elem.text})"
   ]
  },
  {
   "cell_type": "code",
   "execution_count": null,
   "id": "c41ad434-4d0e-4f4d-9849-7a7308652766",
   "metadata": {},
   "outputs": [],
   "source": [
    "character_list"
   ]
  },
  {
   "cell_type": "code",
   "execution_count": null,
   "id": "90982a63-be19-43d7-938f-9e1ae288ee10",
   "metadata": {},
   "outputs": [],
   "source": [
    "character_df = pd.DataFrame(character_list)\n",
    "\n",
    "character_df['book'].value_counts().plot(kind=\"bar\")\n",
    "plt.show()"
   ]
  }
 ],
 "metadata": {
  "kernelspec": {
   "display_name": "Python 3 (ipykernel)",
   "language": "python",
   "name": "python3"
  },
  "language_info": {
   "codemirror_mode": {
    "name": "ipython",
    "version": 3
   },
   "file_extension": ".py",
   "mimetype": "text/x-python",
   "name": "python",
   "nbconvert_exporter": "python",
   "pygments_lexer": "ipython3",
   "version": "3.9.13"
  }
 },
 "nbformat": 4,
 "nbformat_minor": 5
}
